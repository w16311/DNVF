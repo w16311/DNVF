{
 "cells": [
  {
   "cell_type": "code",
   "execution_count": 57,
   "metadata": {},
   "outputs": [],
   "source": [
    "from dataset import *\n",
    "import os\n",
    "import time\n",
    "import datetime\n",
    "import torch\n",
    "import torch.optim as optim\n",
    "import torch.optim.lr_scheduler as lr_scheduler\n",
    "from torch.utils.data import DataLoader\n",
    "from torchvision import transforms\n",
    "import numpy as np\n",
    "from Utils import *\n",
    "from Loss import *\n",
    "import SimpleITK as sitk\n",
    "import nibabel as nib"
   ]
  },
  {
   "cell_type": "code",
   "execution_count": 58,
   "metadata": {},
   "outputs": [],
   "source": [
    "a1 = load_nii('/home/user/Documents/dataset/oasis_seg/OASIS_OAS1_0001_MR1/aligned_norm.nii.gz')\n",
    "b1 = nib.load('/home/user/Documents/dataset/oasis_seg/OASIS_OAS1_0001_MR1/aligned_norm.nii.gz')\n",
    "# b1 = nib.load('/home/user/Documents/dataset/Mindboggle101/mindboggle/label_31_reID_merged/OASIS-TRT-20-2.nii.gz')"
   ]
  },
  {
   "cell_type": "code",
   "execution_count": 59,
   "metadata": {},
   "outputs": [
    {
     "name": "stdout",
     "output_type": "stream",
     "text": [
      "[[  -1.    0.    0.   80.]\n",
      " [  -0.    1.   -0.  -96.]\n",
      " [   0.    0.    1. -112.]\n",
      " [   0.    0.    0.    1.]]\n"
     ]
    }
   ],
   "source": [
    "c1=np.copy(b1.affine)\n",
    "c1[1:3]=c1[2:0:-1]\n",
    "c1[1]=-c1[1]\n",
    "print(c1)"
   ]
  },
  {
   "cell_type": "code",
   "execution_count": 60,
   "metadata": {},
   "outputs": [
    {
     "data": {
      "text/plain": [
       "array([[  -1.,    0.,    0.,   80.],\n",
       "       [   0.,    0.,    1., -112.],\n",
       "       [   0.,   -1.,    0.,   96.],\n",
       "       [   0.,    0.,    0.,    1.]])"
      ]
     },
     "execution_count": 60,
     "metadata": {},
     "output_type": "execute_result"
    }
   ],
   "source": [
    "b1.affine"
   ]
  },
  {
   "cell_type": "code",
   "execution_count": 61,
   "metadata": {},
   "outputs": [
    {
     "data": {
      "text/plain": [
       "(160, 192, 224)"
      ]
     },
     "execution_count": 61,
     "metadata": {},
     "output_type": "execute_result"
    }
   ],
   "source": [
    "b1.get_fdata().shape"
   ]
  },
  {
   "cell_type": "code",
   "execution_count": 63,
   "metadata": {},
   "outputs": [],
   "source": [
    "a2=np.transpose(a1,(0,2,1))\n",
    "a2= np.flip(a2,axis=2)\n",
    "nib.Nifti1Image(a2,c1).to_filename('/home/user/Documents/dataset/oasis_seg/OASIS_OAS1_0001_MR1/test.nii.gz')"
   ]
  },
  {
   "cell_type": "code",
   "execution_count": 3,
   "metadata": {},
   "outputs": [
    {
     "name": "stdout",
     "output_type": "stream",
     "text": [
      "{1: '1', 2: '2', 3: '3', 4: '4', 5: '5', 6: '6', 7: '7', 8: '8', 9: '9', 10: '10', 11: '11', 12: '12', 13: '13', 14: '14', 15: '15', 16: '16', 17: '17', 18: '18', 19: '19', 20: '20', 21: '21', 22: '22', 23: '23', 24: '24', 25: '25', 26: '26', 27: '27', 28: '28', 29: '29', 30: '30', 31: '31'}\n"
     ]
    }
   ],
   "source": [
    "class_name={k: str(k) for k in range(1, 32)}\n",
    "print(class_name)"
   ]
  }
 ],
 "metadata": {
  "kernelspec": {
   "display_name": "Python 3",
   "language": "python",
   "name": "python3"
  },
  "language_info": {
   "codemirror_mode": {
    "name": "ipython",
    "version": 3
   },
   "file_extension": ".py",
   "mimetype": "text/x-python",
   "name": "python",
   "nbconvert_exporter": "python",
   "pygments_lexer": "ipython3",
   "version": "3.9.15"
  },
  "orig_nbformat": 4
 },
 "nbformat": 4,
 "nbformat_minor": 2
}
