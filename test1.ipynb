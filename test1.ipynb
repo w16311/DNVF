{
 "cells": [
  {
   "cell_type": "code",
   "execution_count": 51,
   "metadata": {},
   "outputs": [],
   "source": [
    "import os\n",
    "import glob\n",
    "import numpy as np"
   ]
  },
  {
   "cell_type": "code",
   "execution_count": 52,
   "metadata": {},
   "outputs": [],
   "source": [
    "b = np.load(\"dice.npy\")"
   ]
  },
  {
   "cell_type": "code",
   "execution_count": 53,
   "metadata": {},
   "outputs": [
    {
     "name": "stdout",
     "output_type": "stream",
     "text": [
      "[[0.9789225  0.44414757 0.55058034 0.50232465 0.58960209 0.67589053\n",
      "  0.52301345 0.61007986 0.62648957 0.59736167 0.6793211  0.64099502\n",
      "  0.64438705 0.71106957 0.61203124 0.65369105 0.50190868 0.65345336\n",
      "  0.55207384 0.50463036 0.4804881  0.49576679 0.43596248 0.66000682\n",
      "  0.46839481 0.50746807 0.60057514 0.51623172 0.689361   0.50664563\n",
      "  0.6525412  0.78782998]]\n"
     ]
    }
   ],
   "source": [
    "print(b)"
   ]
  },
  {
   "cell_type": "code",
   "execution_count": 44,
   "metadata": {},
   "outputs": [],
   "source": [
    "path_img = \"/home/user/Documents/dataset/Mindboggle101/mindboggle/image_in_MNI152_normalized\"\n",
    "path_seg = \"/home/user/Documents/dataset/Mindboggle101/mindboggle/label_31_reID_merged\"\n",
    "img_file = []\n",
    "seg_file = [] \n",
    "files = glob.glob(os.path.join(path_img,\"*.nii.gz\"))\n",
    "for file in files:\n",
    "    if \"flipped\" not in file:\n",
    "        img_file.append(file)\n",
    "        tmp = os.path.split(file)\n",
    "        tmp = os.path.join(path_seg,tmp[1])\n",
    "        seg_file.append(tmp)\n"
   ]
  },
  {
   "cell_type": "code",
   "execution_count": 50,
   "metadata": {},
   "outputs": [
    {
     "data": {
      "text/plain": [
       "[1,\n",
       " 2,\n",
       " 3,\n",
       " 4,\n",
       " 5,\n",
       " 6,\n",
       " 7,\n",
       " 8,\n",
       " 9,\n",
       " 10,\n",
       " 11,\n",
       " 12,\n",
       " 13,\n",
       " 14,\n",
       " 15,\n",
       " 16,\n",
       " 17,\n",
       " 18,\n",
       " 19,\n",
       " 20,\n",
       " 21,\n",
       " 22,\n",
       " 23,\n",
       " 24,\n",
       " 25,\n",
       " 26,\n",
       " 27,\n",
       " 28,\n",
       " 29,\n",
       " 30,\n",
       " 31,\n",
       " 32,\n",
       " 33,\n",
       " 34,\n",
       " 35,\n",
       " 36,\n",
       " 37,\n",
       " 38,\n",
       " 39,\n",
       " 40,\n",
       " 41,\n",
       " 42,\n",
       " 43,\n",
       " 44,\n",
       " 45,\n",
       " 46,\n",
       " 47,\n",
       " 48,\n",
       " 49,\n",
       " 50,\n",
       " 51,\n",
       " 52,\n",
       " 53,\n",
       " 54,\n",
       " 55,\n",
       " 56,\n",
       " 57,\n",
       " 58,\n",
       " 59,\n",
       " 60]"
      ]
     },
     "execution_count": 50,
     "metadata": {},
     "output_type": "execute_result"
    }
   ],
   "source": [
    "list(range(1,61))"
   ]
  }
 ],
 "metadata": {
  "kernelspec": {
   "display_name": "Python 3",
   "language": "python",
   "name": "python3"
  },
  "language_info": {
   "codemirror_mode": {
    "name": "ipython",
    "version": 3
   },
   "file_extension": ".py",
   "mimetype": "text/x-python",
   "name": "python",
   "nbconvert_exporter": "python",
   "pygments_lexer": "ipython3",
   "version": "3.9.15"
  },
  "orig_nbformat": 4,
  "vscode": {
   "interpreter": {
    "hash": "a5f0c82ab98be178f90fd86076fc515401a68fa18d04f08ca8174e1e037b6eed"
   }
  }
 },
 "nbformat": 4,
 "nbformat_minor": 2
}
