{
 "cells": [
  {
   "cell_type": "code",
   "execution_count": 1,
   "metadata": {},
   "outputs": [],
   "source": [
    "import os\n",
    "import glob\n",
    "import numpy as np"
   ]
  },
  {
   "cell_type": "code",
   "execution_count": 18,
   "metadata": {},
   "outputs": [],
   "source": [
    "b = np.load(\"dice.npy.npz\")"
   ]
  },
  {
   "cell_type": "code",
   "execution_count": 21,
   "metadata": {},
   "outputs": [
    {
     "name": "stdout",
     "output_type": "stream",
     "text": [
      "[[6.9505727e-01 1.3748487e-03 7.1242888e-04]\n",
      " [6.9039321e-01 8.2946470e-04 6.8835635e-04]]\n"
     ]
    }
   ],
   "source": [
    "print(b[\"loss\"])"
   ]
  },
  {
   "cell_type": "code",
   "execution_count": 2,
   "metadata": {},
   "outputs": [],
   "source": [
    "path_img = \"/home/user/Documents/dataset/Mindboggle101/mindboggle/image_in_MNI152_normalized\"\n",
    "path_seg = \"/home/user/Documents/dataset/Mindboggle101/mindboggle/label_31_reID_merged\"\n",
    "img_file = []\n",
    "seg_file = [] \n",
    "files = glob.glob(os.path.join(path_img,\"*.nii.gz\"))\n",
    "for file in files:\n",
    "    if \"flipped\" not in file:\n",
    "        img_file.append(file)\n",
    "        tmp = os.path.split(file)\n",
    "        tmp = os.path.join(path_seg,tmp[1])\n",
    "        seg_file.append(tmp)\n"
   ]
  },
  {
   "cell_type": "code",
   "execution_count": 9,
   "metadata": {},
   "outputs": [
    {
     "name": "stdout",
     "output_type": "stream",
     "text": [
      "/home/user/Documents/DNVF/T7_Jdet100\n"
     ]
    }
   ],
   "source": [
    "out_path = \"T7_Jdet100\"\n",
    "out_path = os.path.join(os.getcwd(),out_path)\n",
    "print (out_path)"
   ]
  },
  {
   "cell_type": "code",
   "execution_count": 6,
   "metadata": {},
   "outputs": [
    {
     "name": "stdout",
     "output_type": "stream",
     "text": [
      "OASIS-TRT-20-15_flipped.nii.gz\n"
     ]
    }
   ],
   "source": [
    "filename = os.path.split(file)[1]\n",
    "print(filename)"
   ]
  }
 ],
 "metadata": {
  "kernelspec": {
   "display_name": "Python 3",
   "language": "python",
   "name": "python3"
  },
  "language_info": {
   "codemirror_mode": {
    "name": "ipython",
    "version": 3
   },
   "file_extension": ".py",
   "mimetype": "text/x-python",
   "name": "python",
   "nbconvert_exporter": "python",
   "pygments_lexer": "ipython3",
   "version": "3.9.15"
  },
  "orig_nbformat": 4,
  "vscode": {
   "interpreter": {
    "hash": "a5f0c82ab98be178f90fd86076fc515401a68fa18d04f08ca8174e1e037b6eed"
   }
  }
 },
 "nbformat": 4,
 "nbformat_minor": 2
}
